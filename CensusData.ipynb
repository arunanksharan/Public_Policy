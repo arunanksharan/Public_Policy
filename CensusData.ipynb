{
 "cells": [
  {
   "cell_type": "markdown",
   "metadata": {},
   "source": [
    "### Web Scraper to download files from Census 2011 Website"
   ]
  },
  {
   "cell_type": "markdown",
   "metadata": {},
   "source": [
    "While researching publically available datasets in India, I decided to explore the Census 2011 website.\n",
    "\n",
    "To quote the Census Organisation - \"The Indian Census is the largest single source of a variety of statistical information on different characteristics of the people of India.The rich diversity of the people of India is truly brought out by the decennial census which has become one of the tools to understand and study India.\"\n",
    "\n",
    "I wanted to explore and analyse the datasets on age structure and education status in India and the different factors impeding it from a public policy perspective. There were multiple tables and it was tedious to to click and download one by one. So, I developed a web scraper to extract and prepare the URLs to fetch the files/tables related to age (C-13) and education (C-08), download and save them on the local system.\n",
    "\n",
    "For illustrative purposes, the scraper was extended to downloading language-reated content including pdf files/reports.\n",
    "\n",
    "I will be publishing further reports on different hypotheses in future."
   ]
  },
  {
   "cell_type": "markdown",
   "metadata": {},
   "source": [
    "**Step 1: Import modules/packages**\n",
    "\n",
    "Requisite modules/packages were imported.\n",
    "- requests to fetch response for the given URL\n",
    "- BeautifulSoup to parse the response and extract links to download files\n",
    "- os to create file path"
   ]
  },
  {
   "cell_type": "code",
   "execution_count": 46,
   "metadata": {},
   "outputs": [],
   "source": [
    "import requests\n",
    "from bs4 import BeautifulSoup\n",
    "import os"
   ]
  },
  {
   "cell_type": "markdown",
   "metadata": {},
   "source": [
    "**Step 2: census_url, getUrlOnWebPage Function**\n",
    "- census_url is the link to the Population Enumeration Data webpage which has the links to all the different datasets. \n",
    "- A custom function - getUrlOnWebPage was defined. It takes a URL as argument, extracts all the URLs on the webpage under anchor tag (a) and returns them as a dictionary.\n",
    "- Further regular expression and string matching may have been used to extract the specific urls. However, the structure of the website is relatively straightforward and it was easier to visually inspect and select the links to download files in the next step from the dictionary of all the URLs returned from the population enumeration page."
   ]
  },
  {
   "cell_type": "code",
   "execution_count": 47,
   "metadata": {},
   "outputs": [],
   "source": [
    "census_url = \"http://www.censusindia.gov.in/2011census/population_enumeration.html\"\n",
    "\n",
    "def getUrlOnWebPage(url):\n",
    "    response = requests.get(url)\n",
    "    soup = BeautifulSoup(response.text, 'lxml')\n",
    "    a_tag_list = soup.find_all(\"a\")\n",
    "    href_list = [link[\"href\"] for link in a_tag_list]\n",
    "    href_dict = {key: value for key, value in enumerate(href_list)}\n",
    "    return href_dict"
   ]
  },
  {
   "cell_type": "code",
   "execution_count": 48,
   "metadata": {},
   "outputs": [],
   "source": [
    "# Returns all the links on census_url webpage as dictionary\n",
    "href_dict_census_home = getUrlOnWebPage(census_url)"
   ]
  },
  {
   "cell_type": "code",
   "execution_count": 49,
   "metadata": {},
   "outputs": [
    {
     "data": {
      "text/plain": [
       "{0: 'http://censusindia.gov.in/pca/cdb_pca_census/cd_block.html',\n",
       " 1: 'http://www.censusindia.gov.in/2011-Documents/PCA_HL_2011_Release.xls',\n",
       " 2: 'http://www.censusindia.gov.in/2011census/SC-ST/pca_state_distt_sc.xls',\n",
       " 3: 'http://www.censusindia.gov.in/2011census/pca_sc/pca-sc.html',\n",
       " 4: 'http://www.censusindia.gov.in/2011census/SC-ST/pca_state_distt_st.xls',\n",
       " 5: 'http://www.censusindia.gov.in/2011census/pca_st/pca-st.html',\n",
       " 6: 'http://www.censusindia.gov.in/2011-Documents/slum_data_census_2011.xls',\n",
       " 7: 'http://www.censusindia.gov.in/2011census/PCA/PCA_Highlights/PCA_Data_highlight.html',\n",
       " 8: 'http://www.censusindia.gov.in/pca/DDW_PCA0000_2011_Indiastatedist.xlsx',\n",
       " 9: 'http://censusindia.gov.in/pca/pcadata/pca.html',\n",
       " 10: 'http://www.censusindia.gov.in/2011census/PCA/PCA_OTH_0000_2011.xlsx',\n",
       " 11: 'http://www.censusindia.gov.in/2011census/PCA/Primary Census Abstractother.pdf',\n",
       " 12: 'http://www.censusindia.gov.in/2011census/A-1_NO_OF_VILLAGES_TOWNS_HOUSEHOLDS_POPULATION_AND_AREA.xlsx',\n",
       " 13: 'http://www.censusindia.gov.in/2011census/PCA/A2_Data_Table.html',\n",
       " 14: 'http://www.censusindia.gov.in/2011census/PCA/07.A2-Notes.pdf',\n",
       " 15: 'http://www.censusindia.gov.in/2011census/A-3_Vill/Note_A-3_Villages_Population.pdf',\n",
       " 16: 'http://www.censusindia.gov.in/2011census/A-3_Vill/A-3 MDDS DDW-hindi.xlsx',\n",
       " 17: 'http://www.censusindia.gov.in/2011census/A-3_Vill/A-3 MDDS_Release.xls',\n",
       " 18: 'http://www.censusindia.gov.in/2011census/PCA/A3_Appendix.html',\n",
       " 19: 'http://www.censusindia.gov.in/2011census/A-3_Vill/Statements 1-1.pdf',\n",
       " 20: 'http://www.censusindia.gov.in/2011census/A-3_Vill/Statements 1-2.pdf',\n",
       " 21: 'http://www.censusindia.gov.in/2011census/A-3_Vill/Statements 1-3.pdf',\n",
       " 22: 'http://www.censusindia.gov.in/2011census/A-3_Vill/Statements 1-4.pdf',\n",
       " 23: 'http://www.censusindia.gov.in/2011census/PCA/A4.html',\n",
       " 24: 'http://www.censusindia.gov.in/2011census/PCA/Appendix -1 of Table A-4.xlsx',\n",
       " 25: 'http://www.censusindia.gov.in/2011census/PCA/Appendix -2 of Table A-4.xlsx',\n",
       " 26: 'http://www.censusindia.gov.in/2011census/PCA/SC.html',\n",
       " 27: 'http://www.censusindia.gov.in/2011census/PCA/ST.html',\n",
       " 28: 'http://www.censusindia.gov.in/2011census/PCA/SC_PCA-flyleaf.pdf',\n",
       " 29: 'http://www.censusindia.gov.in/2011census/PCA/PCA_Female_Headed.html',\n",
       " 30: 'http://www.censusindia.gov.in/2011census/C-series/C-13.html',\n",
       " 31: 'http://www.censusindia.gov.in/2011census/Age_level_Data/C13/DDW-0000C-13A.xlsx',\n",
       " 32: 'http://www.censusindia.gov.in/2011census/Age_level_Data/C13/DDW-0000C-13SCA.xlsx',\n",
       " 33: 'http://www.censusindia.gov.in/2011census/Age_level_Data/C13/DDW-0000C-13STA.xlsx',\n",
       " 34: 'http://www.censusindia.gov.in/2011census/Age_level_Data/C13/DDW-C13APPENDIXB--0000.xlsx',\n",
       " 35: 'http://www.censusindia.gov.in/2011census/Age_level_Data/C13/DDW-C13APPENDIXB-SC--0000.xlsx',\n",
       " 36: 'http://www.censusindia.gov.in/2011census/Age_level_Data/C13/DDW-C13APPENDIXB-ST--0000.xlsx',\n",
       " 37: 'http://www.censusindia.gov.in/2011census/C-series/C-14.html',\n",
       " 38: 'http://www.censusindia.gov.in/2011census/C-series/DDWCT-0000C-14.xls',\n",
       " 39: 'http://www.censusindia.gov.in/2011census/Disability_Data/DISAB04-0000.xlsx',\n",
       " 40: 'http://www.censusindia.gov.in/2011census/Disability_Data/DISAB04SC-0000.xlsx',\n",
       " 41: 'http://www.censusindia.gov.in/2011census/Disability_Data/DISAB04ST-0000.xlsx',\n",
       " 42: 'http://www.censusindia.gov.in/2011census/Disability_Data/DISA-0000.xlsx',\n",
       " 43: 'http://www.censusindia.gov.in/2011census/Disability_Data/DISA-0000-SC.xlsx',\n",
       " 44: 'http://www.censusindia.gov.in/2011census/Disability_Data/DISA-0000-ST.xlsx',\n",
       " 45: 'http://www.censusindia.gov.in/2011census/Disability_Data/DISAB03-0000.xlsx',\n",
       " 46: 'http://www.censusindia.gov.in/2011census/Disability_Data/DISAB03C-0000.xlsx',\n",
       " 47: 'http://www.censusindia.gov.in/2011census/Disability_Data/DISAB03T-0000.xlsx',\n",
       " 48: 'http://www.censusindia.gov.in/2011census/C-series/c-20.html',\n",
       " 49: 'http://www.censusindia.gov.in/2011census/C-series/DDWUA-C-20_0000m.xlsx',\n",
       " 50: 'http://www.censusindia.gov.in/2011census/C-series/DDWUA-C-20SC_0000m.xlsx',\n",
       " 51: 'http://www.censusindia.gov.in/2011census/C-series/DDWUA-C-20ST_0000m.xlsx',\n",
       " 52: 'http://www.censusindia.gov.in/2011census/C-series/DDW-0000C-21.xlsx',\n",
       " 53: 'http://www.censusindia.gov.in/2011census/C-series/DDWUA-0000C-21.xls',\n",
       " 54: 'http://www.censusindia.gov.in/2011census/Disability_Data/C22/DDW-0000C-22.xlsx',\n",
       " 55: 'http://www.censusindia.gov.in/2011census/Disability_Data/C22/DDW-UA-C22.xls',\n",
       " 56: 'http://www.censusindia.gov.in/2011census/Disability_Data/C23/DDW-0000C-23.xlsx',\n",
       " 57: 'http://www.censusindia.gov.in/2011census/Disability_Data/DDWUA-C-23_0000m.xlsx',\n",
       " 58: 'http://www.censusindia.gov.in/2011census/Disability_Data/C24/DDW-0000C-24.xlsx',\n",
       " 59: 'http://www.censusindia.gov.in/2011census/Disability_Data/DDWUA-C-24_0000m.xlsx',\n",
       " 60: 'http://www.censusindia.gov.in/2011census/Disability_Data/DDW-0000C-29.xlsx',\n",
       " 61: 'http://www.censusindia.gov.in/2011census/Disability_Data/C24/DDW-0000C-30.xlsx',\n",
       " 62: 'http://www.censusindia.gov.in/2011census/C-series/c-6.html',\n",
       " 63: 'http://www.censusindia.gov.in/2011census/C-series/C08.html',\n",
       " 64: 'http://www.censusindia.gov.in/2011census/C-series/DDWCT-0000C-08.xlsx',\n",
       " 65: 'http://www.censusindia.gov.in/2011census/C-series/C08A.html',\n",
       " 66: 'http://www.censusindia.gov.in/2011census/C-series/DDWCT-0000C-08A.xlsx',\n",
       " 67: 'http://www.censusindia.gov.in/2011census/C-series/C-09/DDW-0000C-09.xlsx',\n",
       " 68: 'http://www.censusindia.gov.in/2011census/C-series/C10.html',\n",
       " 69: 'http://www.censusindia.gov.in/2011census/C-series/DDWCT-0000C-10.xlsx',\n",
       " 70: 'http://www.censusindia.gov.in/2011census/C-series/c_11.html',\n",
       " 71: 'http://www.censusindia.gov.in/2011census/C-series/DDWCITY-C-11-0000.xls',\n",
       " 72: 'http://www.censusindia.gov.in/2011census/C-series/C12.html',\n",
       " 73: 'http://www.censusindia.gov.in/2011census/C-series/C12A.html',\n",
       " 74: 'http://www.censusindia.gov.in/2011census/B-series/B-15.html',\n",
       " 75: 'http://www.censusindia.gov.in/2011census/B-series/B-16.html',\n",
       " 76: 'http://www.censusindia.gov.in/2011Census/Language_MTs.html',\n",
       " 77: 'http://www.censusindia.gov.in/2011census/Religion_PCA.html',\n",
       " 78: 'http://www.censusindia.gov.in/2011census/C-01.html',\n",
       " 79: 'http://www.censusindia.gov.in/2011census/DDW00C-01 Annexure MDDS.xlsx',\n",
       " 80: 'http://www.censusindia.gov.in/2011census/DDW00C-01 Appendix MDDS.xlsx',\n",
       " 81: 'http://www.censusindia.gov.in/2011census/C-series/C-05/DDW-0000C-05.xlsx',\n",
       " 82: 'http://www.censusindia.gov.in/2011census/C-15.html',\n",
       " 83: 'http://www.censusindia.gov.in/2011census/SCST-Series/SC05.html',\n",
       " 84: 'http://www.censusindia.gov.in/2011census/SCST-Series/SC07.html',\n",
       " 85: 'http://www.censusindia.gov.in/2011census/SCST-Series/SC08.html',\n",
       " 86: 'http://www.censusindia.gov.in/2011census/SCST-Series/SC09.html',\n",
       " 87: 'http://www.censusindia.gov.in/2011census/SCST-Series/SC10.html',\n",
       " 88: 'http://www.censusindia.gov.in/2011census/SCST-Series/SC11.html',\n",
       " 89: 'http://www.censusindia.gov.in/2011census/SCST-Series/SC12.html',\n",
       " 90: 'http://www.censusindia.gov.in/2011census/SCST-Series/SC13.html',\n",
       " 91: 'http://www.censusindia.gov.in/2011census/SCST-Series/SC14.html',\n",
       " 92: 'http://www.censusindia.gov.in/2011census/SCST-Series/ST05.html',\n",
       " 93: 'http://www.censusindia.gov.in/2011census/SCST-Series/ST07.html',\n",
       " 94: 'http://www.censusindia.gov.in/2011census/SCST-Series/ST08.html',\n",
       " 95: 'http://www.censusindia.gov.in/2011census/SCST-Series/ST09.html',\n",
       " 96: 'http://www.censusindia.gov.in/2011census/SCST-Series/ST10.html',\n",
       " 97: 'http://www.censusindia.gov.in/2011census/SCST-Series/ST11.html',\n",
       " 98: 'http://www.censusindia.gov.in/2011census/SCST-Series/ST12.html',\n",
       " 99: 'http://www.censusindia.gov.in/2011census/SCST-Series/ST13.html',\n",
       " 100: 'http://www.censusindia.gov.in/2011census/SCST-Series/ST14.html',\n",
       " 101: 'http://www.censusindia.gov.in/2011census/SCST-Series/ST14Dist/ST-14.html',\n",
       " 102: 'http://www.censusindia.gov.in/2011census/SCST-Series/ST14A.html',\n",
       " 103: 'http://www.censusindia.gov.in/2011census/hh-series/hh01.html',\n",
       " 104: 'http://www.censusindia.gov.in/2011census/hh-series/hh02.html',\n",
       " 105: 'http://www.censusindia.gov.in/2011census/hh-series/hh04.html',\n",
       " 106: 'http://www.censusindia.gov.in/2011census/hh-series/hh05.html',\n",
       " 107: 'http://www.censusindia.gov.in/2011census/hh-series/hh06.html',\n",
       " 108: 'http://www.censusindia.gov.in/2011census/hh-series/hh07.html',\n",
       " 109: 'http://www.censusindia.gov.in/2011census/hh-series/hh08.html',\n",
       " 110: 'http://www.censusindia.gov.in/2011census/hh-series/hh09.html',\n",
       " 111: 'http://www.censusindia.gov.in/2011census/hh-series/HH10.html',\n",
       " 112: 'http://www.censusindia.gov.in/2011census/hh-series/hh11.html',\n",
       " 113: 'http://www.censusindia.gov.in/2011census/hh-series/HH12.html',\n",
       " 114: 'http://www.censusindia.gov.in/2011census/HH-Series/HH13.xls',\n",
       " 115: 'http://www.censusindia.gov.in/2011census/B-series/B-Series-01.html',\n",
       " 116: 'http://www.censusindia.gov.in/2011census/B-series/DDWCT-0000B-01.xls',\n",
       " 117: 'http://www.censusindia.gov.in/2011census/B-series/DDW-0000B-02.xlsx',\n",
       " 118: 'http://www.censusindia.gov.in/2011census/B-series/B_03.html',\n",
       " 119: 'http://www.censusindia.gov.in/2011census/B-series/DDWCITY-B-03-0000.xlsx',\n",
       " 120: 'http://www.censusindia.gov.in/2011census/B-series/B_4.html',\n",
       " 121: 'http://www.censusindia.gov.in/2011census/B-series/B-5/DDW-B05-0000.xlsx',\n",
       " 122: 'http://www.censusindia.gov.in/2011census/B-series/B_6.html',\n",
       " 123: 'http://www.censusindia.gov.in/2011census/B-series/B_7.html',\n",
       " 124: 'http://www.censusindia.gov.in/2011census/B-series/B_8.html',\n",
       " 125: 'http://www.censusindia.gov.in/2011census/B-series/B_09.html',\n",
       " 126: 'http://www.censusindia.gov.in/2011census/B-series/DDWCITY-B-09-0000.xlsx',\n",
       " 127: 'http://www.censusindia.gov.in/2011census/B-series/B_10.html',\n",
       " 128: 'http://www.censusindia.gov.in/2011census/B-series/B_11.html',\n",
       " 129: 'http://www.censusindia.gov.in/2011census/B-series/DDW-0000B-12.xlsx',\n",
       " 130: 'http://www.censusindia.gov.in/2011census/B-series/B_13.html',\n",
       " 131: 'http://www.censusindia.gov.in/2011census/B-series/DDW-0000B-14.xlsx',\n",
       " 132: 'http://www.censusindia.gov.in/2011census/B-series/B-15.html',\n",
       " 133: 'http://www.censusindia.gov.in/2011census/B-series/B-16.html',\n",
       " 134: 'http://www.censusindia.gov.in/2011census/B-series/B-17/DDW-B17-0000.xlsx',\n",
       " 135: 'http://www.censusindia.gov.in/2011census/B-series/B_18.html',\n",
       " 136: 'http://www.censusindia.gov.in/2011census/B-series/B_19.html',\n",
       " 137: 'http://www.censusindia.gov.in/2011census/B-series/B_20.html',\n",
       " 138: 'http://www.censusindia.gov.in/2011census/B-series/B_21.html',\n",
       " 139: 'http://www.censusindia.gov.in/2011census/B-series/B_22.html',\n",
       " 140: 'http://www.censusindia.gov.in/2011census/B-series/B-23A/DDW-B0123A-0000-NCO-FINAL.XLSX',\n",
       " 141: 'http://www.censusindia.gov.in/2011census/B-series/B-23B/DDW-B0123B-0000-NCO-FINAL.XLSX',\n",
       " 142: 'http://www.censusindia.gov.in/2011census/B-series/B_24.html',\n",
       " 143: 'http://www.censusindia.gov.in/2011census/B-series/B_25A.html',\n",
       " 144: 'http://www.censusindia.gov.in/2011census/B-series/B_25B.html',\n",
       " 145: 'http://www.censusindia.gov.in/2011census/B-series/B_26.html',\n",
       " 146: 'http://www.censusindia.gov.in/2011census/B-series/B_27.html',\n",
       " 147: 'http://www.censusindia.gov.in/2011census/B-series/B_28.html',\n",
       " 148: 'http://www.censusindia.gov.in/2011census/C-series/c-2.html',\n",
       " 149: 'http://www.censusindia.gov.in/2011census/C-series/c-2a.html',\n",
       " 150: 'http://www.censusindia.gov.in/2011census/C-series/c-3.html',\n",
       " 151: 'http://www.censusindia.gov.in/2011census/C-series/DDW-0000C-03A.xlsx',\n",
       " 152: 'http://www.censusindia.gov.in/2011census/C-series/c-4.html',\n",
       " 153: 'http://www.censusindia.gov.in/2011census/C-series/C-05/DDW-0000C-05.xlsx',\n",
       " 154: 'http://www.censusindia.gov.in/2011census/C-series/c-6.html',\n",
       " 155: 'http://www.censusindia.gov.in/2011census/C-series/c-7.html',\n",
       " 156: 'http://www.censusindia.gov.in/2011census/2011-D05-00-Prov.xls',\n",
       " 157: 'http://www.censusindia.gov.in/2011census/F-series/F-1.html',\n",
       " 158: 'http://www.censusindia.gov.in/2011census/F-series/F-2.html',\n",
       " 159: 'http://www.censusindia.gov.in/2011census/F-series/F-3.html',\n",
       " 160: 'http://www.censusindia.gov.in/2011census/F-series/F-04.html',\n",
       " 161: 'http://www.censusindia.gov.in/2011census/F-series/F-5.html',\n",
       " 162: 'http://www.censusindia.gov.in/2011census/F-series/F-6.html',\n",
       " 163: 'http://www.censusindia.gov.in/2011census/F-series/F-7.html',\n",
       " 164: 'http://www.censusindia.gov.in/2011census/F-series/F-08.html',\n",
       " 165: 'http://www.censusindia.gov.in/2011census/F-series/F-9.html',\n",
       " 166: 'http://www.censusindia.gov.in/2011census/F-series/F-10.html',\n",
       " 167: 'http://www.censusindia.gov.in/2011census/F-series/F-11.html',\n",
       " 168: 'http://www.censusindia.gov.in/2011census/F-series/F-12.html',\n",
       " 169: 'http://www.censusindia.gov.in/2011census/F-series/2011-F13-00-Rev.2.xls',\n",
       " 170: 'http://www.censusindia.gov.in/2011census/F-series/2011-F14-00-Rev.2.xls',\n",
       " 171: 'http://www.censusindia.gov.in/2011Census/pes/pes_highlights.html',\n",
       " 172: 'http://www.censusindia.gov.in/2011census/PCA_AY_2011_Revised.xlsx',\n",
       " 173: 'http://www.censusindia.gov.in/AboutUs/Contactus/Contactus.html',\n",
       " 174: 'http://www.censusindia.gov.in/2011-common/census_2011.html'}"
      ]
     },
     "execution_count": 49,
     "metadata": {},
     "output_type": "execute_result"
    }
   ],
   "source": [
    "href_dict_census_home"
   ]
  },
  {
   "cell_type": "code",
   "execution_count": 96,
   "metadata": {},
   "outputs": [],
   "source": [
    "# Link to C-13 State-wise Single Year Age Data selected using key 30\n",
    "# all URLs on C-13 webpage returned as href_dict_district\n",
    "href_dict_district = getUrlOnWebPage(href_dict_census_home[30])"
   ]
  },
  {
   "cell_type": "code",
   "execution_count": 140,
   "metadata": {},
   "outputs": [
    {
     "data": {
      "text/plain": [
       "{0: 'c-13/DDW-0000C-13.xls',\n",
       " 1: 'c-13/DDW-0000C-13SC.xls',\n",
       " 2: 'c-13/DDW-0000C-13ST.xls',\n",
       " 3: 'c-13/DDW-3500C-13.xls',\n",
       " 4: 'c-13/DDW-3500C-13ST.xls',\n",
       " 5: 'c-13/DDW-2800C-13.xls',\n",
       " 6: 'c-13/DDW-2800C-13SC.xls',\n",
       " 7: 'c-13/DDW-2800C-13ST.xls',\n",
       " 8: 'c-13/DDW-1200C-13.xls',\n",
       " 9: 'c-13/DDW-1200C-13ST.xls',\n",
       " 10: 'c-13/DDW-1800C-13.xls',\n",
       " 11: 'c-13/DDW-1800C-13SC.xls',\n",
       " 12: 'c-13/DDW-1800C-13ST.xls',\n",
       " 13: 'c-13/DDW-1000C-13.xls',\n",
       " 14: 'c-13/DDW-1000C-13SC.xls',\n",
       " 15: 'c-13/DDW-1000C-13ST.xls',\n",
       " 16: 'c-13/DDW-0400C-13.xls',\n",
       " 17: 'c-13/DDW-0400C-13SC.xls',\n",
       " 18: 'c-13/DDW-2200C-13.xls',\n",
       " 19: 'c-13/DDW-2200C-13SC.xls',\n",
       " 20: 'c-13/DDW-2200C-13ST.xls',\n",
       " 21: 'c-13/DDW-2600C-13.xls',\n",
       " 22: 'c-13/DDW-2600C-13SC.xls',\n",
       " 23: 'c-13/DDW-2600C-13ST.xls',\n",
       " 24: 'c-13/DDW-2500C-13.xls',\n",
       " 25: 'c-13/DDW-2500C-13SC.xls',\n",
       " 26: 'c-13/DDW-2500C-13ST.xls',\n",
       " 27: 'c-13/DDW-0700C-13.xls',\n",
       " 28: 'c-13/DDW-0700C-13SC.xls',\n",
       " 29: 'c-13/DDW-3000C-13.xls',\n",
       " 30: 'c-13/DDW-3000C-13SC.xls',\n",
       " 31: 'c-13/DDW-3000C-13ST.xls',\n",
       " 32: 'c-13/DDW-2400C-13.xls',\n",
       " 33: 'c-13/DDW-2400C-13SC.xls',\n",
       " 34: 'c-13/DDW-2400C-13ST.xls',\n",
       " 35: 'c-13/DDW-0600C-13.xls',\n",
       " 36: 'c-13/DDW-0600C-13SC.xls',\n",
       " 37: 'c-13/DDW-0200C-13.xls',\n",
       " 38: 'c-13/DDW-0200C-13SC.xls',\n",
       " 39: 'c-13/DDW-0200C-13ST.xls',\n",
       " 40: 'c-13/DDW-0100C-13.xls',\n",
       " 41: 'c-13/DDW-0100C-13SC.xls',\n",
       " 42: 'c-13/DDW-0100C-13ST.xls',\n",
       " 43: 'c-13/DDW-2000C-13.xls',\n",
       " 44: 'c-13/DDW-2000C-13SC.xls',\n",
       " 45: 'c-13/DDW-2000C-13ST.xls',\n",
       " 46: 'c-13/DDW-2900C-13.xls',\n",
       " 47: 'c-13/DDW-2900C-13SC.xls',\n",
       " 48: 'c-13/DDW-2900C-13ST.xls',\n",
       " 49: 'c-13/DDW-3200C-13.xls',\n",
       " 50: 'c-13/DDW-3200C-13SC.xls',\n",
       " 51: 'c-13/DDW-3200C-13ST.xls',\n",
       " 52: 'c-13/DDW-3100C-13.xls',\n",
       " 53: 'c-13/DDW-3100C-13ST.xls',\n",
       " 54: 'c-13/DDW-2300C-13.xls',\n",
       " 55: 'c-13/DDW-2300C-13SC.xls',\n",
       " 56: 'c-13/DDW-2300C-13ST.xls',\n",
       " 57: 'c-13/DDW-2700C-13.xls',\n",
       " 58: 'c-13/DDW-2700C-13SC.xls',\n",
       " 59: 'c-13/DDW-2700C-13ST.xls',\n",
       " 60: 'c-13/DDW-1400C-13.xls',\n",
       " 61: 'c-13/DDW-1400C-13SC.xls',\n",
       " 62: 'c-13/DDW-1400C-13ST.xls',\n",
       " 63: 'c-13/DDW-1700C-13.xls',\n",
       " 64: 'c-13/DDW-1700C-13SC.xls',\n",
       " 65: 'c-13/DDW-1700C-13ST.xls',\n",
       " 66: 'c-13/DDW-1500C-13.xls',\n",
       " 67: 'c-13/DDW-1500C-13SC.xls',\n",
       " 68: 'c-13/DDW-1500C-13ST.xls',\n",
       " 69: 'c-13/DDW-1300C-13.xls',\n",
       " 70: 'c-13/DDW-1300C-13ST.xls',\n",
       " 71: 'c-13/DDW-2100C-13.xls',\n",
       " 72: 'c-13/DDW-2100C-13SC.xls',\n",
       " 73: 'c-13/DDW-2100C-13ST.xls',\n",
       " 74: 'c-13/DDW-3400C-13.xls',\n",
       " 75: 'c-13/DDW-3400C-13SC.xls',\n",
       " 76: 'c-13/DDW-3400C-13ST.xls',\n",
       " 77: 'c-13/DDW-0300C-13.xls',\n",
       " 78: 'c-13/DDW-0300C-13SC.xls',\n",
       " 79: 'c-13/DDW-0800C-13.xls',\n",
       " 80: 'c-13/DDW-0800C-13SC.xls',\n",
       " 81: 'c-13/DDW-0800C-13ST.xls',\n",
       " 82: 'c-13/DDW-1100C-13.xls',\n",
       " 83: 'c-13/DDW-1100C-13SC.xls',\n",
       " 84: 'c-13/DDW-1100C-13ST.xls',\n",
       " 85: 'c-13/DDW-3300C-13.xls',\n",
       " 86: 'c-13/DDW-3300C-13SC.xls',\n",
       " 87: 'c-13/DDW-3300C-13ST.xls',\n",
       " 88: 'c-13/DDW-1600C-13.xls',\n",
       " 89: 'c-13/DDW-1600C-13SC.xls',\n",
       " 90: 'c-13/DDW-1600C-13ST.xls',\n",
       " 91: 'c-13/DDW-0900C-13.xls',\n",
       " 92: 'c-13/DDW-0900C-13SC.xls',\n",
       " 93: 'c-13/DDW-0900C-13ST.xls',\n",
       " 94: 'c-13/DDW-0500C-13.xls',\n",
       " 95: 'c-13/DDW-0500C-13SC.xls',\n",
       " 96: 'c-13/DDW-0500C-13ST.xls',\n",
       " 97: 'c-13/DDW-1900C-13.xls',\n",
       " 98: 'c-13/DDW-1900C-13SC.xls',\n",
       " 99: 'c-13/DDW-1900C-13ST.xls'}"
      ]
     },
     "execution_count": 140,
     "metadata": {},
     "output_type": "execute_result"
    }
   ],
   "source": [
    "href_dict_district"
   ]
  },
  {
   "cell_type": "markdown",
   "metadata": {},
   "source": [
    "**Step 3: baseUrl Function**\n",
    "- Function baseUrl was defined to extract the base URL. The relative path to different files/tables/reports is attached to this URL for download (as follows.)"
   ]
  },
  {
   "cell_type": "code",
   "execution_count": 76,
   "metadata": {},
   "outputs": [],
   "source": [
    "def baseUrl(url):\n",
    "    base_url = (url.rsplit('/', 1)[0]) + \"/\"\n",
    "    return base_url"
   ]
  },
  {
   "cell_type": "markdown",
   "metadata": {},
   "source": [
    "**Step 4: Downloading C-13 Tables:** \n",
    "- It comprises of State-wise Single Year Age Data."
   ]
  },
  {
   "cell_type": "code",
   "execution_count": 92,
   "metadata": {},
   "outputs": [],
   "source": [
    "c_13_age = href_dict_census_home[30]\n",
    "base_url_c_13 = baseUrl(c_13_age)\n",
    "base_url_c_13\n",
    "excel_url_list_c_13 = [(base_url_c_13 + value) for key, value in href_dict_district.items()]\n",
    "\n",
    "#excel_url_list_c_13\n"
   ]
  },
  {
   "cell_type": "markdown",
   "metadata": {},
   "source": [
    "**Step 5: Specifying Download Directory/Filepath**\n",
    "- Download Directory/Filepath is specified and the files/tables are downloaded there."
   ]
  },
  {
   "cell_type": "code",
   "execution_count": null,
   "metadata": {},
   "outputs": [],
   "source": [
    "download_dir = \"C:\\\\Users\\\\Arunank\\\\Documents\\\\Data Science\\\\public_policy\\\\CensusData\\\\c_13_age\"\n",
    "\n",
    "for link in excel_url_list_c_13:\n",
    "    filename = os.path.join(download_dir, link.rsplit('/', 1)[-1])\n",
    "    response_excel = requests.get(link)\n",
    "    with open(filename, 'wb') as file:\n",
    "        file.write(response_excel.content)"
   ]
  },
  {
   "cell_type": "markdown",
   "metadata": {},
   "source": [
    "**Step:6 Downloading C-08 Tables: **\n",
    "\n",
    "- It comprises of data for Educational Level By Age And Sex For Population Age 7 And Above (Total, SC/ST) (India & States/UTs-District Level).\n",
    "- Similar steps as 1 to 5 above are repeated here."
   ]
  },
  {
   "cell_type": "code",
   "execution_count": 74,
   "metadata": {},
   "outputs": [],
   "source": [
    "c_08_education = href_dict_census_home[63]"
   ]
  },
  {
   "cell_type": "code",
   "execution_count": 98,
   "metadata": {},
   "outputs": [],
   "source": [
    "href_dict_district_c_08 = getUrlOnWebPage(c_08_education)"
   ]
  },
  {
   "cell_type": "code",
   "execution_count": 99,
   "metadata": {},
   "outputs": [],
   "source": [
    "#href_dict_district_c_08"
   ]
  },
  {
   "cell_type": "code",
   "execution_count": 100,
   "metadata": {},
   "outputs": [],
   "source": [
    "base_url_c_08 = baseUrl(c_08_education)"
   ]
  },
  {
   "cell_type": "code",
   "execution_count": 101,
   "metadata": {},
   "outputs": [
    {
     "data": {
      "text/plain": [
       "'http://www.censusindia.gov.in/2011census/C-series/'"
      ]
     },
     "execution_count": 101,
     "metadata": {},
     "output_type": "execute_result"
    }
   ],
   "source": [
    "base_url_c_08"
   ]
  },
  {
   "cell_type": "code",
   "execution_count": 102,
   "metadata": {},
   "outputs": [],
   "source": [
    "excel_url_list_c_08 = [(base_url_c_08 + value) for key, value in href_dict_district_c_08.items()]"
   ]
  },
  {
   "cell_type": "code",
   "execution_count": 90,
   "metadata": {},
   "outputs": [],
   "source": [
    "#excel_url_list_c_08"
   ]
  },
  {
   "cell_type": "code",
   "execution_count": 88,
   "metadata": {},
   "outputs": [],
   "source": [
    "download_dir_education = \"C:\\\\Users\\\\Arunank\\\\Documents\\\\Data Science\\\\public_policy\\\\CensusData\\\\c_08_education\""
   ]
  },
  {
   "cell_type": "code",
   "execution_count": 94,
   "metadata": {},
   "outputs": [],
   "source": [
    "for link in excel_url_list_c_08:\n",
    "    filename_education = os.path.join(download_dir_education, link.rsplit(\"/\", 1)[-1])\n",
    "    response_excel_education = requests.get(link)\n",
    "    with open(filename_education, 'wb') as file_education:\n",
    "        file_education.write(response_excel_education.content)"
   ]
  },
  {
   "cell_type": "markdown",
   "metadata": {},
   "source": [
    "**Step 7: Downloading Language related content:**\n",
    "\n",
    "- It includes different papers/statememts with insights and C-16 language table."
   ]
  },
  {
   "cell_type": "code",
   "execution_count": 137,
   "metadata": {},
   "outputs": [],
   "source": [
    "c_16_language = href_dict_census_home[76]\n",
    "href_dict_c_16 = getUrlOnWebPage(c_16_language)\n",
    "base_url_c_16 = baseUrl(c_16_language) #(x.rsplit('/',1)[0]) + \"/\"\n",
    "\n",
    "base_url_c_16\n",
    "pdf_url_list_c_16 = [(base_url_c_16 + value) for key, value in href_dict_c_16.items()]\n",
    "\n",
    "excel_url_list_c_13\n"
   ]
  },
  {
   "cell_type": "code",
   "execution_count": 141,
   "metadata": {},
   "outputs": [
    {
     "data": {
      "text/plain": [
       "dict_items([(0, 'C-16_25062018_NEW.pdf'), (1, 'Language-2011/General Note.pdf'), (2, 'Language-2011/Statement-1.pdf'), (3, 'Language-2011/Statement-2.pdf'), (4, 'Language-2011/Statement-3.pdf'), (5, 'Language-2011/Statement-4.pdf'), (6, 'Language-2011/Statement-5.pdf'), (7, 'Language-2011/Statement-6.pdf'), (8, 'Language-2011/Statement-7.pdf'), (9, 'Language-2011/Statement-8.pdf'), (10, 'Language-2011/Statement-9.pdf'), (11, 'Language-2011/Part-A.pdf'), (12, 'Language-2011/Part-B.pdf'), (13, 'http://www.censusindia.gov.in/2011census/C-16.html')])"
      ]
     },
     "execution_count": 141,
     "metadata": {},
     "output_type": "execute_result"
    }
   ],
   "source": [
    "href_dict_c_16.items()"
   ]
  },
  {
   "cell_type": "code",
   "execution_count": 142,
   "metadata": {},
   "outputs": [],
   "source": [
    "# Selecting all URLs except key 13 \n",
    "# which is link to the webpage with language tables\n",
    "pdf_url_list_c_16 = [(base_url_c_16 + value) for key, value in href_dict_c_16.items() if key != 13]"
   ]
  },
  {
   "cell_type": "code",
   "execution_count": null,
   "metadata": {},
   "outputs": [],
   "source": [
    "pdf_url_list_c_16"
   ]
  },
  {
   "cell_type": "code",
   "execution_count": 117,
   "metadata": {},
   "outputs": [],
   "source": [
    "download_dir_language = \"C:\\\\Users\\\\Arunank\\\\Documents\\\\Data Science\\\\public_policy\\\\CensusData\\\\c_16_language\""
   ]
  },
  {
   "cell_type": "markdown",
   "metadata": {},
   "source": [
    "**Different pdf files/reports are downloaded.**"
   ]
  },
  {
   "cell_type": "code",
   "execution_count": 119,
   "metadata": {},
   "outputs": [],
   "source": [
    "for link in pdf_url_list_c_16:\n",
    "    filename_language = os.path.join(download_dir_language, link.rsplit(\"/\",1)[-1])\n",
    "    response_pdf_language = requests.get(link)\n",
    "    with open(filename_language, 'wb') as file_language:\n",
    "        file_language.write(response_pdf_language.content)"
   ]
  },
  {
   "cell_type": "markdown",
   "metadata": {},
   "source": [
    "**Link to C-16 Tables webpage is extracted.**"
   ]
  },
  {
   "cell_type": "code",
   "execution_count": 122,
   "metadata": {},
   "outputs": [],
   "source": [
    "c_16_url_to_tables = href_dict_c_16[13]"
   ]
  },
  {
   "cell_type": "code",
   "execution_count": 123,
   "metadata": {},
   "outputs": [
    {
     "data": {
      "text/plain": [
       "'http://www.censusindia.gov.in/2011census/C-16.html'"
      ]
     },
     "execution_count": 123,
     "metadata": {},
     "output_type": "execute_result"
    }
   ],
   "source": [
    "c_16_url_to_tables"
   ]
  },
  {
   "cell_type": "markdown",
   "metadata": {},
   "source": [
    "**All URLs on C-16 webpage extracted. These contain relative links to language tables.**"
   ]
  },
  {
   "cell_type": "code",
   "execution_count": 126,
   "metadata": {},
   "outputs": [],
   "source": [
    "c_16_excel_dict = getUrlOnWebPage(c_16_url_to_tables)"
   ]
  },
  {
   "cell_type": "code",
   "execution_count": 128,
   "metadata": {},
   "outputs": [],
   "source": [
    "#c_16_excel_dict"
   ]
  },
  {
   "cell_type": "code",
   "execution_count": 133,
   "metadata": {},
   "outputs": [],
   "source": [
    "base_url_c_16_excel = baseUrl(c_16_url_to_tables)"
   ]
  },
  {
   "cell_type": "code",
   "execution_count": 134,
   "metadata": {},
   "outputs": [
    {
     "data": {
      "text/plain": [
       "'http://www.censusindia.gov.in/2011census/'"
      ]
     },
     "execution_count": 134,
     "metadata": {},
     "output_type": "execute_result"
    }
   ],
   "source": [
    "base_url_c_16_excel"
   ]
  },
  {
   "cell_type": "code",
   "execution_count": 135,
   "metadata": {},
   "outputs": [],
   "source": [
    "excel_url_list_c_16 = [(base_url_c_16_excel + value) for key, value in c_16_excel_dict.items()]"
   ]
  },
  {
   "cell_type": "markdown",
   "metadata": {},
   "source": [
    "**URL path to language related excel tables created.**"
   ]
  },
  {
   "cell_type": "code",
   "execution_count": 143,
   "metadata": {},
   "outputs": [
    {
     "data": {
      "text/plain": [
       "['http://www.censusindia.gov.in/2011census/C-16/DDW-C16-STMT-MDDS-0000.XLSX',\n",
       " 'http://www.censusindia.gov.in/2011census/C-16/DDW-C16-STMT-MDDS-3500.XLSX',\n",
       " 'http://www.censusindia.gov.in/2011census/C-16/DDW-C16-STMT-MDDS-2800.XLSX',\n",
       " 'http://www.censusindia.gov.in/2011census/C-16/DDW-C16-STMT-MDDS-1200.XLSX',\n",
       " 'http://www.censusindia.gov.in/2011census/C-16/DDW-C16-STMT-MDDS-1800.XLSX',\n",
       " 'http://www.censusindia.gov.in/2011census/C-16/DDW-C16-STMT-MDDS-1000.XLSX',\n",
       " 'http://www.censusindia.gov.in/2011census/C-16/DDW-C16-STMT-MDDS-0400.XLSX',\n",
       " 'http://www.censusindia.gov.in/2011census/C-16/DDW-C16-STMT-MDDS-2200.XLSX',\n",
       " 'http://www.censusindia.gov.in/2011census/C-16/DDW-C16-STMT-MDDS-2600.XLSX',\n",
       " 'http://www.censusindia.gov.in/2011census/C-16/DDW-C16-STMT-MDDS-2500.XLSX',\n",
       " 'http://www.censusindia.gov.in/2011census/C-16/DDW-C16-STMT-MDDS-0700.XLSX',\n",
       " 'http://www.censusindia.gov.in/2011census/C-16/DDW-C16-STMT-MDDS-3000.XLSX',\n",
       " 'http://www.censusindia.gov.in/2011census/C-16/DDW-C16-STMT-MDDS-2400.XLSX',\n",
       " 'http://www.censusindia.gov.in/2011census/C-16/DDW-C16-STMT-MDDS-0600.XLSX',\n",
       " 'http://www.censusindia.gov.in/2011census/C-16/DDW-C16-STMT-MDDS-0200.XLSX',\n",
       " 'http://www.censusindia.gov.in/2011census/C-16/DDW-C16-STMT-MDDS-0100.XLSX',\n",
       " 'http://www.censusindia.gov.in/2011census/C-16/DDW-C16-STMT-MDDS-2000.XLSX',\n",
       " 'http://www.censusindia.gov.in/2011census/C-16/DDW-C16-STMT-MDDS-2900.XLSX',\n",
       " 'http://www.censusindia.gov.in/2011census/C-16/DDW-C16-STMT-MDDS-3200.XLSX',\n",
       " 'http://www.censusindia.gov.in/2011census/C-16/DDW-C16-STMT-MDDS-3100.XLSX',\n",
       " 'http://www.censusindia.gov.in/2011census/C-16/DDW-C16-STMT-MDDS-2300.XLSX',\n",
       " 'http://www.censusindia.gov.in/2011census/C-16/DDW-C16-STMT-MDDS-2700.XLSX',\n",
       " 'http://www.censusindia.gov.in/2011census/C-16/DDW-C16-STMT-MDDS-1400.XLSX',\n",
       " 'http://www.censusindia.gov.in/2011census/C-16/DDW-C16-STMT-MDDS-1700.XLSX',\n",
       " 'http://www.censusindia.gov.in/2011census/C-16/DDW-C16-STMT-MDDS-1500.XLSX',\n",
       " 'http://www.censusindia.gov.in/2011census/C-16/DDW-C16-STMT-MDDS-1300.XLSX',\n",
       " 'http://www.censusindia.gov.in/2011census/C-16/DDW-C16-STMT-MDDS-2100.XLSX',\n",
       " 'http://www.censusindia.gov.in/2011census/C-16/DDW-C16-STMT-MDDS-3400.XLSX',\n",
       " 'http://www.censusindia.gov.in/2011census/C-16/DDW-C16-STMT-MDDS-0300.XLSX',\n",
       " 'http://www.censusindia.gov.in/2011census/C-16/DDW-C16-STMT-MDDS-0800.XLSX',\n",
       " 'http://www.censusindia.gov.in/2011census/C-16/DDW-C16-STMT-MDDS-1100.XLSX',\n",
       " 'http://www.censusindia.gov.in/2011census/C-16/DDW-C16-STMT-MDDS-3300.XLSX',\n",
       " 'http://www.censusindia.gov.in/2011census/C-16/DDW-C16-STMT-MDDS-1600.XLSX',\n",
       " 'http://www.censusindia.gov.in/2011census/C-16/DDW-C16-STMT-MDDS-0900.XLSX',\n",
       " 'http://www.censusindia.gov.in/2011census/C-16/DDW-C16-STMT-MDDS-0500.XLSX',\n",
       " 'http://www.censusindia.gov.in/2011census/C-16/DDW-C16-STMT-MDDS-1900.XLSX']"
      ]
     },
     "execution_count": 143,
     "metadata": {},
     "output_type": "execute_result"
    }
   ],
   "source": [
    "excel_url_list_c_16"
   ]
  },
  {
   "cell_type": "markdown",
   "metadata": {},
   "source": [
    "**Language-related tables are downloaded.**"
   ]
  },
  {
   "cell_type": "code",
   "execution_count": 144,
   "metadata": {},
   "outputs": [],
   "source": [
    "for link in excel_url_list_c_16:\n",
    "    filename_language = os.path.join(download_dir_language, link.rsplit(\"/\",1)[-1])\n",
    "    response_excel_language = requests.get(link)\n",
    "    with open(filename_language, 'wb') as file_language:\n",
    "        file_language.write(response_excel_language.content)"
   ]
  },
  {
   "cell_type": "code",
   "execution_count": null,
   "metadata": {},
   "outputs": [],
   "source": []
  }
 ],
 "metadata": {
  "kernelspec": {
   "display_name": "Python 3",
   "language": "python",
   "name": "python3"
  },
  "language_info": {
   "codemirror_mode": {
    "name": "ipython",
    "version": 3
   },
   "file_extension": ".py",
   "mimetype": "text/x-python",
   "name": "python",
   "nbconvert_exporter": "python",
   "pygments_lexer": "ipython3",
   "version": "3.6.4"
  }
 },
 "nbformat": 4,
 "nbformat_minor": 2
}
